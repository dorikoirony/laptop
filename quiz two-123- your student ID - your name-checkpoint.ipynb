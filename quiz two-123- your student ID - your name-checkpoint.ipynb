{
 "cells": [
  {
   "cell_type": "markdown",
   "metadata": {},
   "source": [
    "## 注意事项：\n",
    "* 保证不把资料传给其他学生，不相互讨论（诚信比成绩重要）\n",
    "* 请修改本文件名称为quiz two_123 _学号-姓名，如果您的学号是101，姓名是sam，则文件名为midterm_123_101-sam.ipynb\n",
    "* 不要修改程序的注释和原有的代码\n",
    "* 任务的代码要在我指定的单元格(cells)中填写\n",
    "* 规定时间内将该代码文件提交到<342497883@qq.com>邮箱，（满分100，占总成绩30%）\n",
    "* 无特殊说明时，数据预处理参考资料主要是[pandas](https://pandas.pydata.org/pandas-docs/stable/)，建模使用的工具是[sklearn](https://scikit-learn.org/stable/index.html)"
   ]
  },
  {
   "cell_type": "code",
   "execution_count": null,
   "metadata": {
    "collapsed": true
   },
   "outputs": [],
   "source": [
    "score1 + score2 + score3 + score4 + score5 + score6 + score7"
   ]
  },
  {
   "cell_type": "markdown",
   "metadata": {},
   "source": [
    "#### 鼓励您写的每一行代码写上注释"
   ]
  },
  {
   "cell_type": "code",
   "execution_count": null,
   "metadata": {
    "collapsed": true
   },
   "outputs": [],
   "source": [
    "# 填写姓名和学号\n",
    "name = input(\"请填写您的姓名：\")\n",
    "number = input(\"请填写您的学号：\")\n",
    "print (\"\\n我的姓名和学号分别是：\\n{0}\\n{1}\".format(name,number))"
   ]
  },
  {
   "cell_type": "code",
   "execution_count": null,
   "metadata": {
    "collapsed": true
   },
   "outputs": [],
   "source": [
    "import pandas as pd\n",
    "import sklearn\n",
    "import matplotlib.pyplot as plt\n",
    "import numpy as np\n",
    "%matplotlib inline"
   ]
  },
  {
   "cell_type": "markdown",
   "metadata": {},
   "source": [
    "### task 1: load data (10 points)\n",
    "* load the data reviews_by_course.csv using pandas, please refers to [read csv](http://pandas.pydata.org/pandas-docs/stable/reference/api/pandas.read_csv.html?highlight=read_csv#pandas.read_csv)\n",
    "* assign the loaded data to variable review"
   ]
  },
  {
   "cell_type": "code",
   "execution_count": null,
   "metadata": {},
   "outputs": [],
   "source": [
    "# load the data reviews_by_course.csv using pandas, please refers to [read csv](http://pandas.pydata.org/pandas-docs/stable/reference/api/pandas.read_csv.html?highlight=read_csv#pandas.read_csv)\n",
    "# assign the loaded data to variable review\n",
    "# please start coding for task 1 in this cell\n",
    "\n",
    "\n"
   ]
  },
  {
   "cell_type": "code",
   "execution_count": null,
   "metadata": {},
   "outputs": [],
   "source": [
    "# this code help you check the loaded data, do not change or remove it\n",
    "review.head()"
   ]
  },
  {
   "cell_type": "code",
   "execution_count": null,
   "metadata": {
    "collapsed": true
   },
   "outputs": [],
   "source": [
    "# dot change and run this cell\n",
    "score1 = float(input(\"第1题得分：\"))"
   ]
  },
  {
   "cell_type": "markdown",
   "metadata": {},
   "source": [
    "### task 2: filter the top 10 clothses with the lowest average rating scores (20 points)\n",
    "* Clothing ID refers to one type of clothse\n",
    "* Rating refers to consumer's evalution score\n",
    "* [groupby](http://pandas.pydata.org/pandas-docs/stable/reference/api/pandas.DataFrame.groupby.html?highlight=groupby#pandas.DataFrame.groupby) may help you get the average scores for each course\n",
    "* [sort_values](http://pandas.pydata.org/pandas-docs/stable/reference/api/pandas.DataFrame.sort_values.html?highlight=sort_values#pandas.DataFrame.sort_values) may help you sort the dataset\n",
    "* please slice the top 10 clothes with the lowest average scores "
   ]
  },
  {
   "cell_type": "code",
   "execution_count": null,
   "metadata": {},
   "outputs": [],
   "source": [
    "# please start coding here for task 2\n",
    "\n",
    "\n"
   ]
  },
  {
   "cell_type": "code",
   "execution_count": null,
   "metadata": {
    "collapsed": true
   },
   "outputs": [],
   "source": [
    "# dot change and run this cell\n",
    "score2 = float(input(\"第2题得分：\"))"
   ]
  },
  {
   "cell_type": "markdown",
   "metadata": {},
   "source": [
    "### Task 3: Add a new column \"get_Positive_Feedback_on_review\" (20 points)\n",
    "* Positive Feedback Count refers to Number of positive feedback on the review\n",
    "* some review got some postive feedback, we think this review is of high quality. \n",
    "* please add a colum \"get_Positive_Feedback_on_review\" to dataframe review. you can apply the function check_contain_non_english with [pandas.Series.apply](http://pandas.pydata.org/pandas-docs/stable/reference/api/pandas.Series.apply.html?highlight=apply#pandas.Series.apply)\n",
    "* if the Positive Feedback Count>0, the value of the new column = True, else False"
   ]
  },
  {
   "cell_type": "code",
   "execution_count": null,
   "metadata": {
    "collapsed": true
   },
   "outputs": [],
   "source": [
    "# please add a colum \"get_Positive_Feedback_on_review\" to dataframe review\n",
    "# tips: review[\"get_Positive_Feedback_on_review\"] = ......\n",
    "# please start coding for task 3 in this cell \n",
    "\n",
    "\n"
   ]
  },
  {
   "cell_type": "code",
   "execution_count": null,
   "metadata": {
    "collapsed": true
   },
   "outputs": [],
   "source": [
    "# dot change and run this cell\n",
    "score3 = float(input(\"第3题得分：\"))"
   ]
  },
  {
   "cell_type": "markdown",
   "metadata": {
    "collapsed": true
   },
   "source": [
    "### Task 4: select the reviews that have more than one Positive Feedbacks (10 points)\n",
    "* Positive Feedback Count refers to Number of positive feedback on the review\n",
    "* assign the sliced data to variable review_get_postivefeedback. We will work on the dataset ereview_english from now on.\n",
    "* [Boolean Indexing](http://pandas.pydata.org/pandas-docs/stable/getting_started/10min.html?highlight=boolean) may help you"
   ]
  },
  {
   "cell_type": "code",
   "execution_count": null,
   "metadata": {
    "collapsed": true
   },
   "outputs": [],
   "source": [
    "# please start coding for task 4 in this cell \n",
    "\n",
    "\n"
   ]
  },
  {
   "cell_type": "code",
   "execution_count": null,
   "metadata": {
    "collapsed": true
   },
   "outputs": [],
   "source": [
    "# dot change and run this cell\n",
    "score4 = float(input(\"第4题得分：\"))"
   ]
  },
  {
   "cell_type": "markdown",
   "metadata": {},
   "source": [
    "### task 5: create a new column sentiment to dataset review_english (10 points)\n",
    "* if Lable is larger than 3, sentiment = 1 , else sentiment = 0\n",
    "* work on dataset review_get_postivefeedback\n",
    "* tips - you can [apply](http://pandas.pydata.org/pandas-docs/stable/reference/api/pandas.Series.apply.html?highlight=apply#pandas.Series.apply) a function to a series to create a new column"
   ]
  },
  {
   "cell_type": "code",
   "execution_count": null,
   "metadata": {
    "collapsed": true
   },
   "outputs": [],
   "source": [
    "# please start coding for task 5\n",
    "\n",
    "\n"
   ]
  },
  {
   "cell_type": "code",
   "execution_count": null,
   "metadata": {
    "collapsed": true
   },
   "outputs": [],
   "source": [
    "# dot change and run this cell\n",
    "score5 = float(input(\"第5题得分：\"))"
   ]
  },
  {
   "cell_type": "markdown",
   "metadata": {},
   "source": [
    "### task 6: split the data as train and test data for MultinomialNB training (10 points)\n",
    "* refers to <a href = \"https://scikit-learn.org/stable/modules/generated/sklearn.model_selection.train_test_split.html\">train_test_split</a>\n",
    "* coding in this cell to split your dataset (review_get_postivefeedback_features and y_sentiment) as X_train,X_test,y_train,y_test\n",
    "* set parameter test_size = 0.2"
   ]
  },
  {
   "cell_type": "code",
   "execution_count": null,
   "metadata": {
    "collapsed": true
   },
   "outputs": [],
   "source": [
    "# I create features review_english_features and y_sentiment for you, do not change or delete this code\n",
    "# please split review_get_postivefeedback_features and y_sentiment \n",
    "# firstly I fill missing value of column \"Review Text\"\n",
    "review_get_postivefeedback[\"Review Text\"] = review_get_postivefeedback[\"Review Text\"].fillna(\"\")\n",
    "\n",
    "from sklearn.feature_extraction.text import CountVectorizer\n",
    "max_df = 0.8\n",
    "min_df = 10\n",
    "bag = CountVectorizer(max_df = max_df,\n",
    "                       min_df = min_df,\n",
    "                       stop_words=\"english\")\n",
    "\n",
    "review_get_postivefeedback_features = pd.DataFrame(data=bag.fit_transform(review_get_postivefeedback[\"Review Text\"]).toarray(),columns=bag.get_feature_names())\n",
    "y_sentiment = review_get_postivefeedback[\"sentiment\"].copy()"
   ]
  },
  {
   "cell_type": "code",
   "execution_count": null,
   "metadata": {
    "collapsed": true
   },
   "outputs": [],
   "source": [
    "# please start coding here for task 6\n",
    "\n",
    "\n"
   ]
  },
  {
   "cell_type": "code",
   "execution_count": null,
   "metadata": {
    "collapsed": true
   },
   "outputs": [],
   "source": [
    "# dot change and run this cell\n",
    "score6 = float(input(\"第6题得分：\"))"
   ]
  },
  {
   "cell_type": "markdown",
   "metadata": {},
   "source": [
    "### task 7：train a Naive Bayes Model for sentiment classification and test it (20 points)\n",
    "*  <a href = \"https://scikit-learn.org/stable/modules/generated/sklearn.metrics.accuracy_score.html\">accuracy_score</a>\n",
    "*  <a href = \"https://scikit-learn.org/stable/modules/generated/sklearn.naive_bayes.MultinomialNB.html\">MultinomialNB</a>"
   ]
  },
  {
   "cell_type": "code",
   "execution_count": null,
   "metadata": {},
   "outputs": [],
   "source": [
    "# import MultinomialNB, train a MultinomialNB model nb based on X_train and y_train\n",
    "\n",
    "\n"
   ]
  },
  {
   "cell_type": "code",
   "execution_count": null,
   "metadata": {},
   "outputs": [],
   "source": [
    "# make predit using trained model nb, import accuracy_score, and get the accuracy_score\n",
    "# please start coding here\n",
    "\n",
    "\n"
   ]
  },
  {
   "cell_type": "code",
   "execution_count": null,
   "metadata": {
    "collapsed": true
   },
   "outputs": [],
   "source": [
    "# dot change and run this cell\n",
    "score7 = float(input(\"第7题得分：\"))"
   ]
  }
 ],
 "metadata": {
  "anaconda-cloud": {},
  "kernelspec": {
   "display_name": "Python [default]",
   "language": "python",
   "name": "python3"
  },
  "language_info": {
   "codemirror_mode": {
    "name": "ipython",
    "version": 3
   },
   "file_extension": ".py",
   "mimetype": "text/x-python",
   "name": "python",
   "nbconvert_exporter": "python",
   "pygments_lexer": "ipython3",
   "version": "3.6.2"
  }
 },
 "nbformat": 4,
 "nbformat_minor": 1
}
